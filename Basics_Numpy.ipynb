{
  "cells": [
    {
      "cell_type": "markdown",
      "metadata": {
        "id": "CX5_OfOWfKnd"
      },
      "source": [
        "**Basics of NumPy (Numerical Python)**\n"
      ]
    },
    {
      "cell_type": "code",
      "execution_count": null,
      "metadata": {},
      "outputs": [
        {
          "ename": "",
          "evalue": "",
          "output_type": "error",
          "traceback": [
            "\u001b[1;31mRunning cells with 'Python 3.10.0 64-bit' requires ipykernel package.\n",
            "Run the following command to install 'ipykernel' into the Python environment. \n",
            "Command: 'C:/Users/Dell/AppData/Local/Programs/Python/Python310/python.exe -m pip install ipykernel -U --user --force-reinstall'"
          ]
        }
      ],
      "source": [
        "print(\"hello world\")"
      ]
    },
    {
      "cell_type": "markdown",
      "metadata": {
        "id": "UhOqLD5afXKu"
      },
      "source": []
    },
    {
      "cell_type": "code",
      "execution_count": 4,
      "metadata": {
        "colab": {
          "base_uri": "https://localhost:8080/"
        },
        "id": "-_EQv_qPgk55",
        "outputId": "62b87daf-6658-458b-8dae-8100eb7e19b8"
      },
      "outputs": [
        {
          "name": "stdout",
          "output_type": "stream",
          "text": [
            "[1 2 3 4 5]\n",
            "<class 'numpy.ndarray'>\n"
          ]
        }
      ],
      "source": [
        "#import thr numpy package\n",
        "import numpy as np\n",
        "\n",
        "# Create a 1d integer array from a list\n",
        "arr1 = np.array([1,2,3,4,5])\n",
        "\n",
        "#printing the arr1\n",
        "print(arr1)\n",
        "print(type(arr1))"
      ]
    },
    {
      "cell_type": "code",
      "execution_count": 7,
      "metadata": {
        "colab": {
          "base_uri": "https://localhost:8080/"
        },
        "id": "U44-_J6shsCu",
        "outputId": "5c157a91-8dd6-4f69-c76e-5e85c8c4a21d"
      },
      "outputs": [
        {
          "name": "stdout",
          "output_type": "stream",
          "text": [
            "[1.    2.    3.    4.    5.123]\n",
            "<class 'numpy.ndarray'>\n"
          ]
        }
      ],
      "source": [
        "#creating 1d float array\n",
        "arr2 = np.array([1,2,3,4,5.123], dtype='float32')\n",
        "\n",
        "print(arr2)\n",
        "print(type(arr2))\n"
      ]
    },
    {
      "cell_type": "code",
      "execution_count": 8,
      "metadata": {
        "colab": {
          "base_uri": "https://localhost:8080/"
        },
        "id": "N2EJdkWEjXGh",
        "outputId": "bd479fed-c521-476c-ff06-aa265fb8d0fb"
      },
      "outputs": [
        {
          "name": "stdout",
          "output_type": "stream",
          "text": [
            "[1 2 3 4]\n",
            "[2 4 6 8]\n",
            "[3 4 5 6]\n",
            "[ 1  4  9 16]\n"
          ]
        }
      ],
      "source": [
        "arr1 = np.array([1, 2, 3, 4])\n",
        "print(arr1)\n",
        "\n",
        "# Vector (element-wise) operations\n",
        "print(arr1 * 2)\n",
        "print(arr1 + 2)\n",
        "print(arr1 * arr1)"
      ]
    },
    {
      "cell_type": "code",
      "execution_count": 13,
      "metadata": {
        "colab": {
          "base_uri": "https://localhost:8080/"
        },
        "id": "YM0yCDz7jygr",
        "outputId": "3de95ea9-f58f-442b-fd5b-a6d3159a1eb8"
      },
      "outputs": [
        {
          "name": "stdout",
          "output_type": "stream",
          "text": [
            "array with zeros [0 0 0 0 0 0 0 0 0 0]\n",
            "[[1. 1. 1.]\n",
            " [1. 1. 1.]\n",
            " [1. 1. 1.]]\n"
          ]
        },
        {
          "data": {
            "text/plain": [
              "array([[[3, 9, 7],\n",
              "        [0, 4, 2],\n",
              "        [8, 2, 5]],\n",
              "\n",
              "       [[6, 7, 4],\n",
              "        [8, 5, 6],\n",
              "        [3, 0, 6]],\n",
              "\n",
              "       [[1, 7, 5],\n",
              "        [4, 1, 1],\n",
              "        [8, 3, 8]]])"
            ]
          },
          "execution_count": 13,
          "metadata": {},
          "output_type": "execute_result"
        }
      ],
      "source": [
        "# Create an integer array of length 10 filled with zeros\n",
        "arr_0 = np.zeros(10, dtype=int)\n",
        "print(\"array with zeros\" ,arr_0)\n",
        "\n",
        "# Create a 3x3 floating-point array filled with 1s\n",
        "arr_1 = np.ones((3, 3), dtype=float)\n",
        "print(arr_1)\n",
        "\n",
        "# Create an array filled with a linear sequence\n",
        "# Starting at 0, ending at 20, stepping by 3\n",
        "# (this is similar to the built-in range() function)\n",
        "np.arange(0, 20, 3)\n",
        "\n",
        "# Create an array of hundred values evenly spaced between 0 and 1\n",
        "np.linspace(0, 1, 100)\n",
        "\n",
        "# Create a 3x3 array of uniformly distributed random values between 0 and 1\n",
        "np.random.random((3, 3))\n",
        "\n",
        "# Create a 3x3 array of random integers in the interval [0, 10)\n",
        "np.random.randint(0, 10, (3, 3))\n",
        "\n",
        "# Create a 3x3 array of normally distributed random values\n",
        "# with mean 0 and standard deviation 1\n",
        "np.random.normal(0, 1, (3, 3))\n",
        "\n",
        "np.random.randint(10, size=6)  # One-dimensional array of random integers\n",
        "np.random.randint(10, size=(3, 3))  # Two-dimensional array of random integers\n",
        "np.random.randint(10, size=(3, 3, 3))  # Three-dimensional array of random integers"
      ]
    },
    {
      "cell_type": "code",
      "execution_count": 14,
      "metadata": {
        "colab": {
          "base_uri": "https://localhost:8080/"
        },
        "id": "1lH7uWqmkw1o",
        "outputId": "be652025-4d60-496d-9573-7662be5c0401"
      },
      "outputs": [
        {
          "name": "stdout",
          "output_type": "stream",
          "text": [
            "ndim:  2\n",
            "shape: (3, 3)\n",
            "x size:  9\n",
            "dtype: int64\n",
            "itemsize: 8 bytes\n",
            "nbytes: 72 bytes\n"
          ]
        }
      ],
      "source": [
        "import numpy as np\n",
        "\n",
        "# Create a 3x3 array of random integers in the interval [0, 10)\n",
        "x = np.random.randint(0, 10, (3, 3))\n",
        "\n",
        "print(\"ndim: \", x.ndim)\n",
        "print(\"shape:\", x.shape)\n",
        "print(\"x size: \", x.size)\n",
        "print(\"dtype:\", x.dtype)\n",
        "print(\"itemsize:\", x.itemsize, \"bytes\")\n",
        "print(\"nbytes:\", x.nbytes, \"bytes\")"
      ]
    }
  ],
  "metadata": {
    "colab": {
      "name": "Basics_Numpy.ipynb",
      "provenance": []
    },
    "kernelspec": {
      "display_name": "Python 3",
      "name": "python3"
    },
    "language_info": {
      "name": "python",
      "version": "3.10.0"
    }
  },
  "nbformat": 4,
  "nbformat_minor": 0
}
