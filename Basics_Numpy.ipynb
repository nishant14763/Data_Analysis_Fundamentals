{
  "nbformat": 4,
  "nbformat_minor": 0,
  "metadata": {
    "colab": {
      "name": "Basics_Numpy.ipynb",
      "provenance": []
    },
    "kernelspec": {
      "name": "python3",
      "display_name": "Python 3"
    },
    "language_info": {
      "name": "python"
    }
  },
  "cells": [
    {
      "cell_type": "markdown",
      "source": [
        "**Basics of NumPy (Numerical Python)**\n"
      ],
      "metadata": {
        "id": "CX5_OfOWfKnd"
      }
    },
    {
      "cell_type": "markdown",
      "source": [
        ""
      ],
      "metadata": {
        "id": "UhOqLD5afXKu"
      }
    },
    {
      "cell_type": "code",
      "source": [
        "#import thr numpy package\n",
        "import numpy as np\n",
        "\n",
        "# Create a 1d integer array from a list\n",
        "arr1 = np.array([1,2,3,4,5])\n",
        "\n",
        "#printing the arr1\n",
        "print(arr1)\n",
        "print(type(arr1))"
      ],
      "metadata": {
        "colab": {
          "base_uri": "https://localhost:8080/"
        },
        "id": "-_EQv_qPgk55",
        "outputId": "62b87daf-6658-458b-8dae-8100eb7e19b8"
      },
      "execution_count": 4,
      "outputs": [
        {
          "output_type": "stream",
          "name": "stdout",
          "text": [
            "[1 2 3 4 5]\n",
            "<class 'numpy.ndarray'>\n"
          ]
        }
      ]
    },
    {
      "cell_type": "code",
      "source": [
        "#creating 1d float array\n",
        "arr2 = np.array([1,2,3,4,5.123], dtype='float32')\n",
        "\n",
        "print(arr2)\n",
        "print(type(arr2))\n"
      ],
      "metadata": {
        "colab": {
          "base_uri": "https://localhost:8080/"
        },
        "id": "U44-_J6shsCu",
        "outputId": "5c157a91-8dd6-4f69-c76e-5e85c8c4a21d"
      },
      "execution_count": 7,
      "outputs": [
        {
          "output_type": "stream",
          "name": "stdout",
          "text": [
            "[1.    2.    3.    4.    5.123]\n",
            "<class 'numpy.ndarray'>\n"
          ]
        }
      ]
    },
    {
      "cell_type": "code",
      "source": [
        "arr1 = np.array([1, 2, 3, 4])\n",
        "print(arr1)\n",
        "\n",
        "# Vector (element-wise) operations\n",
        "print(arr1 * 2)\n",
        "print(arr1 + 2)\n",
        "print(arr1 * arr1)"
      ],
      "metadata": {
        "colab": {
          "base_uri": "https://localhost:8080/"
        },
        "id": "N2EJdkWEjXGh",
        "outputId": "bd479fed-c521-476c-ff06-aa265fb8d0fb"
      },
      "execution_count": 8,
      "outputs": [
        {
          "output_type": "stream",
          "name": "stdout",
          "text": [
            "[1 2 3 4]\n",
            "[2 4 6 8]\n",
            "[3 4 5 6]\n",
            "[ 1  4  9 16]\n"
          ]
        }
      ]
    },
    {
      "cell_type": "code",
      "source": [
        "# Create an integer array of length 10 filled with zeros\n",
        "arr_0 = np.zeros(10, dtype=int)\n",
        "print(\"array with zeros\" ,arr_0)\n",
        "\n",
        "# Create a 3x3 floating-point array filled with 1s\n",
        "arr_1 = np.ones((3, 3), dtype=float)\n",
        "print(arr_1)\n",
        "\n",
        "# Create an array filled with a linear sequence\n",
        "# Starting at 0, ending at 20, stepping by 3\n",
        "# (this is similar to the built-in range() function)\n",
        "np.arange(0, 20, 3)\n",
        "\n",
        "# Create an array of hundred values evenly spaced between 0 and 1\n",
        "np.linspace(0, 1, 100)\n",
        "\n",
        "# Create a 3x3 array of uniformly distributed random values between 0 and 1\n",
        "np.random.random((3, 3))\n",
        "\n",
        "# Create a 3x3 array of random integers in the interval [0, 10)\n",
        "np.random.randint(0, 10, (3, 3))\n",
        "\n",
        "# Create a 3x3 array of normally distributed random values\n",
        "# with mean 0 and standard deviation 1\n",
        "np.random.normal(0, 1, (3, 3))\n",
        "\n",
        "np.random.randint(10, size=6)  # One-dimensional array of random integers\n",
        "np.random.randint(10, size=(3, 3))  # Two-dimensional array of random integers\n",
        "np.random.randint(10, size=(3, 3, 3))  # Three-dimensional array of random integers"
      ],
      "metadata": {
        "colab": {
          "base_uri": "https://localhost:8080/"
        },
        "id": "YM0yCDz7jygr",
        "outputId": "3de95ea9-f58f-442b-fd5b-a6d3159a1eb8"
      },
      "execution_count": 13,
      "outputs": [
        {
          "output_type": "stream",
          "name": "stdout",
          "text": [
            "array with zeros [0 0 0 0 0 0 0 0 0 0]\n",
            "[[1. 1. 1.]\n",
            " [1. 1. 1.]\n",
            " [1. 1. 1.]]\n"
          ]
        },
        {
          "output_type": "execute_result",
          "data": {
            "text/plain": [
              "array([[[3, 9, 7],\n",
              "        [0, 4, 2],\n",
              "        [8, 2, 5]],\n",
              "\n",
              "       [[6, 7, 4],\n",
              "        [8, 5, 6],\n",
              "        [3, 0, 6]],\n",
              "\n",
              "       [[1, 7, 5],\n",
              "        [4, 1, 1],\n",
              "        [8, 3, 8]]])"
            ]
          },
          "metadata": {},
          "execution_count": 13
        }
      ]
    },
    {
      "cell_type": "code",
      "source": [
        "import numpy as np\n",
        "\n",
        "# Create a 3x3 array of random integers in the interval [0, 10)\n",
        "x = np.random.randint(0, 10, (3, 3))\n",
        "\n",
        "print(\"ndim: \", x.ndim)\n",
        "print(\"shape:\", x.shape)\n",
        "print(\"x size: \", x.size)\n",
        "print(\"dtype:\", x.dtype)\n",
        "print(\"itemsize:\", x.itemsize, \"bytes\")\n",
        "print(\"nbytes:\", x.nbytes, \"bytes\")"
      ],
      "metadata": {
        "colab": {
          "base_uri": "https://localhost:8080/"
        },
        "id": "1lH7uWqmkw1o",
        "outputId": "be652025-4d60-496d-9573-7662be5c0401"
      },
      "execution_count": 14,
      "outputs": [
        {
          "output_type": "stream",
          "name": "stdout",
          "text": [
            "ndim:  2\n",
            "shape: (3, 3)\n",
            "x size:  9\n",
            "dtype: int64\n",
            "itemsize: 8 bytes\n",
            "nbytes: 72 bytes\n"
          ]
        }
      ]
    }
  ]
}